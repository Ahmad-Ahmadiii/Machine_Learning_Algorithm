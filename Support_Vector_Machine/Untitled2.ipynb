{
 "cells": [
  {
   "cell_type": "markdown",
   "metadata": {},
   "source": [
    "### Machine Learning Algorithm:\n",
    "___\n",
    "\n",
    "* from **IBM corporation Course by:(Sr.Data Scientist Saeed Aghabozorgi)**\n",
    "* coding by: **(Ahmad Ahmadi)**\n",
    "___\n",
    "### 7) Support Vector Machine (SVM):\n",
    "<div class=\"alert alert-success alertsuccess\" style=\"margin-top: 20px\">\n",
    "<font size = 3><strong>Support Vector Machine:</strong></font>\n",
    "<br>\n",
    "<br>\n",
    "<img src=\"https://www.researchgate.net/profile/Desmond-Ighravwe/publication/335911736/figure/fig2/AS:804811381424128@1568893394038/Graphical-illustration-of-support-vector-machine-SVM-working-principles-28.png\" width=\" 500\" heigh=\"400\"><br>\n",
    "    \n",
    "- <b>the data points near margin are; Support Vectorss<b><br>\n",
    "</div>  \n",
    "<br> \n",
    "____\n",
    "    \n",
    "-  this is a `supervise` machine learning algorithm.\n",
    "- this algorithm is used for **Classification.**\n",
    "- SVM is a supervised algorithm that classifies cases by finding a <u>seperator</u>\n",
    "#### Pros and Cons of SVM:\n",
    "- it's accurate. (advantage)\n",
    "- memory efficient. (advantage)\n",
    "- the algorithm is prone for over-fitting. (disadvantage)\n",
    "- do not provide probability estimate. (disadvantage)\n",
    "- it is not computationally efficients on large datasets. (disadvantage)\n",
    "#### in which application we can use SVM:\n",
    "1) image classification tasks<br>\n",
    "2) text category assignment<br>\n",
    "3) detecting spam/not spam <br>\n",
    "4) gene classification<br>\n",
    "5) regressoin, outliers detection, clustering<br>\n",
    "___"
   ]
  },
  {
   "cell_type": "markdown",
   "metadata": {},
   "source": []
  }
 ],
 "metadata": {
  "kernelspec": {
   "display_name": "Python 3",
   "language": "python",
   "name": "python3"
  },
  "language_info": {
   "codemirror_mode": {
    "name": "ipython",
    "version": 3
   },
   "file_extension": ".py",
   "mimetype": "text/x-python",
   "name": "python",
   "nbconvert_exporter": "python",
   "pygments_lexer": "ipython3",
   "version": "3.8.5"
  }
 },
 "nbformat": 4,
 "nbformat_minor": 4
}
