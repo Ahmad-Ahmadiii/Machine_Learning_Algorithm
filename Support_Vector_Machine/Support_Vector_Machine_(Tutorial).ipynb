{
 "cells": [
  {
   "cell_type": "code",
   "execution_count": 1,
   "metadata": {},
   "outputs": [],
   "source": [
    "# importing packages:\n",
    "import itertools\n",
    "import numpy as np\n",
    "import pandas as pd\n",
    "import matplotlib.pyplot as plt\n",
    "\n",
    "# from sklearn:\n",
    "from sklearn import svm\n",
    "from sklearn import preprocessing\n",
    "from sklearn.model_selection import train_test_split\n",
    "# evaluation metrics of model:\n",
    "from sklearn.metrics import f1_score\n",
    "from sklearn.metrics import jaccard_score\n",
    "from sklearn.metrics import confusion_matrix\n",
    "from sklearn.metrics import classification_report\n",
    "\n",
    "%matplotlib inline"
   ]
  },
  {
   "cell_type": "code",
   "execution_count": 2,
   "metadata": {},
   "outputs": [],
   "source": [
    "# reading data using pd.read_excel('file_name'):\n",
    "excel_data = pd.read_excel('cell_samples_data.xlsx')"
   ]
  },
  {
   "cell_type": "code",
   "execution_count": 3,
   "metadata": {},
   "outputs": [
    {
     "data": {
      "text/html": [
       "<div>\n",
       "<style scoped>\n",
       "    .dataframe tbody tr th:only-of-type {\n",
       "        vertical-align: middle;\n",
       "    }\n",
       "\n",
       "    .dataframe tbody tr th {\n",
       "        vertical-align: top;\n",
       "    }\n",
       "\n",
       "    .dataframe thead th {\n",
       "        text-align: right;\n",
       "    }\n",
       "</style>\n",
       "<table border=\"1\" class=\"dataframe\">\n",
       "  <thead>\n",
       "    <tr style=\"text-align: right;\">\n",
       "      <th></th>\n",
       "      <th>ID</th>\n",
       "      <th>Clump</th>\n",
       "      <th>UnifSize</th>\n",
       "      <th>UnifShape</th>\n",
       "      <th>MargAdh</th>\n",
       "      <th>SingEpiSize</th>\n",
       "      <th>BareNuc</th>\n",
       "      <th>BlandChrom</th>\n",
       "      <th>NormNucl</th>\n",
       "      <th>Mit</th>\n",
       "      <th>Class</th>\n",
       "    </tr>\n",
       "  </thead>\n",
       "  <tbody>\n",
       "    <tr>\n",
       "      <th>0</th>\n",
       "      <td>1000025</td>\n",
       "      <td>5</td>\n",
       "      <td>1</td>\n",
       "      <td>1</td>\n",
       "      <td>1</td>\n",
       "      <td>2</td>\n",
       "      <td>1</td>\n",
       "      <td>3</td>\n",
       "      <td>1</td>\n",
       "      <td>1</td>\n",
       "      <td>2</td>\n",
       "    </tr>\n",
       "    <tr>\n",
       "      <th>1</th>\n",
       "      <td>1002945</td>\n",
       "      <td>5</td>\n",
       "      <td>4</td>\n",
       "      <td>4</td>\n",
       "      <td>5</td>\n",
       "      <td>7</td>\n",
       "      <td>10</td>\n",
       "      <td>3</td>\n",
       "      <td>2</td>\n",
       "      <td>1</td>\n",
       "      <td>2</td>\n",
       "    </tr>\n",
       "    <tr>\n",
       "      <th>2</th>\n",
       "      <td>1015425</td>\n",
       "      <td>3</td>\n",
       "      <td>1</td>\n",
       "      <td>1</td>\n",
       "      <td>1</td>\n",
       "      <td>2</td>\n",
       "      <td>2</td>\n",
       "      <td>3</td>\n",
       "      <td>1</td>\n",
       "      <td>1</td>\n",
       "      <td>2</td>\n",
       "    </tr>\n",
       "    <tr>\n",
       "      <th>3</th>\n",
       "      <td>1016277</td>\n",
       "      <td>6</td>\n",
       "      <td>8</td>\n",
       "      <td>8</td>\n",
       "      <td>1</td>\n",
       "      <td>3</td>\n",
       "      <td>4</td>\n",
       "      <td>3</td>\n",
       "      <td>7</td>\n",
       "      <td>1</td>\n",
       "      <td>2</td>\n",
       "    </tr>\n",
       "    <tr>\n",
       "      <th>4</th>\n",
       "      <td>1017023</td>\n",
       "      <td>4</td>\n",
       "      <td>1</td>\n",
       "      <td>1</td>\n",
       "      <td>3</td>\n",
       "      <td>2</td>\n",
       "      <td>1</td>\n",
       "      <td>3</td>\n",
       "      <td>1</td>\n",
       "      <td>1</td>\n",
       "      <td>2</td>\n",
       "    </tr>\n",
       "    <tr>\n",
       "      <th>5</th>\n",
       "      <td>1017122</td>\n",
       "      <td>8</td>\n",
       "      <td>10</td>\n",
       "      <td>10</td>\n",
       "      <td>8</td>\n",
       "      <td>7</td>\n",
       "      <td>10</td>\n",
       "      <td>9</td>\n",
       "      <td>7</td>\n",
       "      <td>1</td>\n",
       "      <td>4</td>\n",
       "    </tr>\n",
       "    <tr>\n",
       "      <th>6</th>\n",
       "      <td>1018099</td>\n",
       "      <td>1</td>\n",
       "      <td>1</td>\n",
       "      <td>1</td>\n",
       "      <td>1</td>\n",
       "      <td>2</td>\n",
       "      <td>10</td>\n",
       "      <td>3</td>\n",
       "      <td>1</td>\n",
       "      <td>1</td>\n",
       "      <td>2</td>\n",
       "    </tr>\n",
       "    <tr>\n",
       "      <th>7</th>\n",
       "      <td>1018561</td>\n",
       "      <td>2</td>\n",
       "      <td>1</td>\n",
       "      <td>2</td>\n",
       "      <td>1</td>\n",
       "      <td>2</td>\n",
       "      <td>1</td>\n",
       "      <td>3</td>\n",
       "      <td>1</td>\n",
       "      <td>1</td>\n",
       "      <td>2</td>\n",
       "    </tr>\n",
       "    <tr>\n",
       "      <th>8</th>\n",
       "      <td>1033078</td>\n",
       "      <td>2</td>\n",
       "      <td>1</td>\n",
       "      <td>1</td>\n",
       "      <td>1</td>\n",
       "      <td>2</td>\n",
       "      <td>1</td>\n",
       "      <td>1</td>\n",
       "      <td>1</td>\n",
       "      <td>5</td>\n",
       "      <td>2</td>\n",
       "    </tr>\n",
       "    <tr>\n",
       "      <th>9</th>\n",
       "      <td>1033078</td>\n",
       "      <td>4</td>\n",
       "      <td>2</td>\n",
       "      <td>1</td>\n",
       "      <td>1</td>\n",
       "      <td>2</td>\n",
       "      <td>1</td>\n",
       "      <td>2</td>\n",
       "      <td>1</td>\n",
       "      <td>1</td>\n",
       "      <td>2</td>\n",
       "    </tr>\n",
       "  </tbody>\n",
       "</table>\n",
       "</div>"
      ],
      "text/plain": [
       "        ID  Clump  UnifSize  UnifShape  MargAdh  SingEpiSize BareNuc  \\\n",
       "0  1000025      5         1          1        1            2       1   \n",
       "1  1002945      5         4          4        5            7      10   \n",
       "2  1015425      3         1          1        1            2       2   \n",
       "3  1016277      6         8          8        1            3       4   \n",
       "4  1017023      4         1          1        3            2       1   \n",
       "5  1017122      8        10         10        8            7      10   \n",
       "6  1018099      1         1          1        1            2      10   \n",
       "7  1018561      2         1          2        1            2       1   \n",
       "8  1033078      2         1          1        1            2       1   \n",
       "9  1033078      4         2          1        1            2       1   \n",
       "\n",
       "   BlandChrom  NormNucl  Mit  Class  \n",
       "0           3         1    1      2  \n",
       "1           3         2    1      2  \n",
       "2           3         1    1      2  \n",
       "3           3         7    1      2  \n",
       "4           3         1    1      2  \n",
       "5           9         7    1      4  \n",
       "6           3         1    1      2  \n",
       "7           3         1    1      2  \n",
       "8           1         1    5      2  \n",
       "9           2         1    1      2  "
      ]
     },
     "execution_count": 3,
     "metadata": {},
     "output_type": "execute_result"
    }
   ],
   "source": [
    "# looking at 10 rows of dataset:\n",
    "excel_data.head(10)"
   ]
  },
  {
   "cell_type": "code",
   "execution_count": 4,
   "metadata": {},
   "outputs": [
    {
     "data": {
      "image/png": "[encoded data removed]",
      "text/plain": [
       "<Figure size 432x288 with 1 Axes>"
      ]
     },
     "metadata": {
      "needs_background": "light"
     },
     "output_type": "display_data"
    }
   ],
   "source": [
    "# visualization of data:\n",
    "ax= excel_data[excel_data['Class']==4][0:50].plot(kind='scatter', x='Clump', y='UnifSize',\n",
    "                                                                          color='DarkBlue', label='Malignant')\n",
    "\n",
    "excel_data[excel_data['Class']==2][0:50].plot(kind='scatter', x='Clump', y='UnifSize',\n",
    "                                                                   color='Yellow', label='Benign', ax = ax)\n",
    "plt.show()"
   ]
  },
  {
   "cell_type": "code",
   "execution_count": 5,
   "metadata": {},
   "outputs": [
    {
     "data": {
      "text/plain": [
       "ID              int64\n",
       "Clump           int64\n",
       "UnifSize        int64\n",
       "UnifShape       int64\n",
       "MargAdh         int64\n",
       "SingEpiSize     int64\n",
       "BareNuc        object\n",
       "BlandChrom      int64\n",
       "NormNucl        int64\n",
       "Mit             int64\n",
       "Class           int64\n",
       "dtype: object"
      ]
     },
     "execution_count": 5,
     "metadata": {},
     "output_type": "execute_result"
    }
   ],
   "source": [
    "# Let's look at data type of columns:\n",
    "excel_data.dtypes"
   ]
  },
  {
   "cell_type": "markdown",
   "metadata": {},
   "source": [
    "___\n",
    "\n",
    "- **as you can see, the column (BareNuc) isn't numerical because it has some non numerical values like (?) in itself.**\n",
    "___"
   ]
  },
  {
   "cell_type": "code",
   "execution_count": 6,
   "metadata": {},
   "outputs": [
    {
     "name": "stdout",
     "output_type": "stream",
     "text": [
      "(BareNuc) befor preprocessing:\n",
      "object \n",
      "\n",
      "(BareNuc) after preprocesisng:\n",
      " int32\n"
     ]
    }
   ],
   "source": [
    "print('(BareNuc) befor preprocessing:')\n",
    "print(excel_data['BareNuc'].dtypes, '\\n')\n",
    "excel_data = excel_data[pd.to_numeric(excel_data['BareNuc'], errors = 'coerce').notnull()].copy()\n",
    "excel_data['BareNuc']  = excel_data['BareNuc'].astype(int)\n",
    "print('(BareNuc) after preprocesisng:\\n', excel_data['BareNuc'].dtypes)\n",
    "\n"
   ]
  },
  {
   "cell_type": "code",
   "execution_count": 7,
   "metadata": {},
   "outputs": [
    {
     "name": "stdout",
     "output_type": "stream",
     "text": [
      "X input:\n",
      "[[ 5  1  1  1  2  1  3  1  1]\n",
      " [ 5  4  4  5  7 10  3  2  1]\n",
      " [ 3  1  1  1  2  2  3  1  1]\n",
      " [ 6  8  8  1  3  4  3  7  1]\n",
      " [ 4  1  1  3  2  1  3  1  1]\n",
      " [ 8 10 10  8  7 10  9  7  1]\n",
      " [ 1  1  1  1  2 10  3  1  1]\n",
      " [ 2  1  2  1  2  1  3  1  1]\n",
      " [ 2  1  1  1  2  1  1  1  5]\n",
      " [ 4  2  1  1  2  1  2  1  1]]\n"
     ]
    }
   ],
   "source": [
    "# defining X (as inputs):\n",
    "x_inp = excel_data[['Clump', 'UnifSize', 'UnifShape', 'MargAdh', 'SingEpiSize', 'BareNuc', 'BlandChrom', 'NormNucl', 'Mit']]\n",
    "x_inp = np.asarray(x_inp)\n",
    "print('X input:')\n",
    "print(x_inp[:10, :])"
   ]
  },
  {
   "cell_type": "code",
   "execution_count": 8,
   "metadata": {},
   "outputs": [
    {
     "name": "stdout",
     "output_type": "stream",
     "text": [
      "Y output:\n",
      "[2 2 2 2 2 4 2 2 2 2]\n"
     ]
    }
   ],
   "source": [
    "# defining Y as output:\n",
    "y_out = excel_data[['Class']]\n",
    "y_out = np.asarray(y_out).reshape((y_out.shape[0]*y_out.shape[1], ))\n",
    "print('Y output:')\n",
    "print(y_out[:10])"
   ]
  },
  {
   "cell_type": "code",
   "execution_count": 9,
   "metadata": {},
   "outputs": [
    {
     "name": "stdout",
     "output_type": "stream",
     "text": [
      "the shape of x =  (683, 9)\n",
      "the shape of y =  (683,)\n"
     ]
    }
   ],
   "source": [
    "# Let's see the shape of X and Y:\n",
    "print('the shape of x = ', x_inp.shape)\n",
    "print('the shape of y = ', y_out.shape)"
   ]
  },
  {
   "cell_type": "code",
   "execution_count": 10,
   "metadata": {},
   "outputs": [
    {
     "name": "stdout",
     "output_type": "stream",
     "text": [
      "shape of x train =  (546, 9)\n",
      "shape of x test =  (137, 9)\n",
      "shape of y train =  (546,)\n",
      "shape of y test =  (137,)\n",
      "____________________\n"
     ]
    }
   ],
   "source": [
    "# now it's time to set data to train/test split:\n",
    "x_train, x_test, y_train, y_test = train_test_split(x_inp, y_out, test_size=0.2, random_state=4)\n",
    "\n",
    "#print:\n",
    "print('shape of x train = ', x_train.shape)\n",
    "print('shape of x test = ', x_test.shape)\n",
    "print('shape of y train = ', y_train.shape)\n",
    "print('shape of y test = ', y_test.shape)\n",
    "print('____________________')"
   ]
  },
  {
   "cell_type": "markdown",
   "metadata": {},
   "source": [
    "___\n",
    "\n",
    "### The SVM algorithm:\n",
    "offers a choice of kernel functions for performing its processing. Basically, mapping data into a higher dimensional space is called kernelling. The mathematical function used for the transformation is known as the kernel function, and can be of different types, such as:<br>\n",
    "<b>1.Linear <br>\n",
    "2.Polynomial (poly)<br>\n",
    "3.Radial basis function (rbf) <br>\n",
    "4.Sigmoid </b><br>\n",
    "Each of these functions has its characteristics, its pros and cons, and its equation. We usually choose different functions in turn and compare the results. Let's just use the default, RBF (Radial Basis Function)\n",
    "___"
   ]
  },
  {
   "cell_type": "code",
   "execution_count": 11,
   "metadata": {},
   "outputs": [
    {
     "name": "stdout",
     "output_type": "stream",
     "text": [
      "kernel= [rbf, linear, poly, sigmoid] \n",
      "\n",
      "Enter kernel name(from above) ==> rbf\n"
     ]
    },
    {
     "data": {
      "text/plain": [
       "SVC()"
      ]
     },
     "execution_count": 11,
     "metadata": {},
     "output_type": "execute_result"
    }
   ],
   "source": [
    "# Creating our SVM model as Classifier:\n",
    "print('kernel= [rbf, linear, poly, sigmoid]', '\\n')\n",
    "kernel_name = input('Enter kernel name(from above) ==> ')\n",
    "svm_model_1 = svm.SVC(kernel = kernel_name)     # SVC = Support Vector Classifier\n",
    "svm_model_1.fit(x_train, y_train)"
   ]
  },
  {
   "cell_type": "code",
   "execution_count": 12,
   "metadata": {},
   "outputs": [
    {
     "name": "stdout",
     "output_type": "stream",
     "text": [
      "y hat:\n",
      "\n",
      "[2 4 2 4 2 2 2 2 4 2]\n"
     ]
    }
   ],
   "source": [
    "# Using (svm_model) to predict on test data:\n",
    "y_hat1 = svm_model_1.predict(x_test)\n",
    "# printing results:\n",
    "print('y hat:\\n')\n",
    "print(y_hat1[:10])"
   ]
  },
  {
   "cell_type": "code",
   "execution_count": 13,
   "metadata": {},
   "outputs": [],
   "source": [
    "# defining a functin for confusion matrix plotting:\n",
    "\n",
    "def confusion_matrix_plot(cm, classes,\n",
    "                          normalize=False,\n",
    "                          title='Confusion matrix',\n",
    "                          cmap=plt.cm.Blues):\n",
    "    \"\"\"\n",
    "    This function prints and plots the confusion matrix.\n",
    "    Normalization can be applied by setting `normalize=True`.\n",
    "    \"\"\"\n",
    "    if normalize:\n",
    "        cm = cm.astype('float') / cm.sum(axis=1)[:, np.newaxis]\n",
    "        print(\"Normalized confusion matrix\")\n",
    "    else:\n",
    "        print('Confusion matrix, without normalization')\n",
    "\n",
    "    print(cm)\n",
    "\n",
    "    plt.imshow(cm, interpolation='nearest', cmap=cmap)\n",
    "    plt.title(title)\n",
    "    plt.colorbar()\n",
    "    tick_marks = np.arange(len(classes))\n",
    "    plt.xticks(tick_marks, classes, rotation=45)\n",
    "    plt.yticks(tick_marks, classes)\n",
    "\n",
    "    fmt = '.2f' if normalize else 'd'\n",
    "    thresh = cm.max() / 2.\n",
    "    for i, j in itertools.product(range(cm.shape[0]), range(cm.shape[1])):\n",
    "        plt.text(j, i, format(cm[i, j], fmt),\n",
    "                 horizontalalignment=\"center\",\n",
    "                 color=\"white\" if cm[i, j] > thresh else \"black\")\n",
    "\n",
    "    plt.tight_layout()\n",
    "    plt.ylabel('True label')\n",
    "    plt.xlabel('Predicted label')"
   ]
  },
  {
   "cell_type": "code",
   "execution_count": 14,
   "metadata": {},
   "outputs": [
    {
     "name": "stdout",
     "output_type": "stream",
     "text": [
      "Confusion matrix, without normalization\n",
      "[[85  5]\n",
      " [ 0 47]]\n"
     ]
    },
    {
     "data": {
      "image/png": "[encoded data removed]",
      "text/plain": [
       "<Figure size 432x432 with 2 Axes>"
      ]
     },
     "metadata": {
      "needs_background": "light"
     },
     "output_type": "display_data"
    }
   ],
   "source": [
    "# Plot non-normalized confusion matrix:\n",
    "eval_0 = confusion_matrix(y_test, y_hat1, labels=[2,4])\n",
    "np.set_printoptions(precision=2)\n",
    "\n",
    "plt.figure(figsize=(6, 6))\n",
    "confusion_matrix_plot(eval_0, classes=['Benign(2)','Malignant(4)'],normalize= False,  title='Confusion matrix')"
   ]
  },
  {
   "cell_type": "markdown",
   "metadata": {},
   "source": [
    "___\n",
    "\n",
    "### About Evaluation Metrics:\n",
    "\n",
    "- for evaluation of the model we can use:<br>\n",
    "1) <a href=\"https://www.geeksforgeeks.org/python-coefficient-of-determination-r2-score/\"> R2 Score</a> (click)<br> \n",
    "2) <a href=\"https://towardsdatascience.com/accuracy-precision-recall-or-f1-331fb37c5cb9\"> F1 Score </a> (click)<br>\n",
    "3) <a href=\"https://towardsdatascience.com/understanding-confusion-matrix-a9ad42dcfd62\"> Confusion Matrix</a> (click)<br>\n",
    "4) <a href=\"https://towardsdatascience.com/categorical-data-jaccards-coefficient-and-multiprocessing-b4a7bd5d90f6\"> Jaccard Score</a> (click)<br>\n",
    "5) <a href=\"https://towardsdatascience.com/understanding-binary-cross-entropy-log-loss-a-visual-explanation-a3ac6025181a\"> Log Loss </a> (click)\n",
    "___"
   ]
  },
  {
   "cell_type": "code",
   "execution_count": 15,
   "metadata": {},
   "outputs": [
    {
     "name": "stdout",
     "output_type": "stream",
     "text": [
      "f1 score:\n",
      "  0.9639038982104676 \n",
      "\n",
      "jaccard score:\n",
      " 0.9444444444444444 \n",
      "\n",
      "confusion matrix: \n",
      " [[85  5]\n",
      " [ 0 47]] \n",
      "\n"
     ]
    }
   ],
   "source": [
    "# using metrics methods to evaluate our model:\n",
    "\n",
    "eval_1 = f1_score(y_test, y_hat1, average='weighted')\n",
    "eval_2 = jaccard_score(y_test, y_hat1, pos_label=2)\n",
    "eval_3 = confusion_matrix(y_test, y_hat1, labels=[2, 4])\n",
    "\n",
    "print('f1 score:\\n ', eval_1, '\\n')\n",
    "print('jaccard score:\\n', eval_2, '\\n')\n",
    "print('confusion matrix: \\n', eval_3, '\\n')"
   ]
  },
  {
   "cell_type": "code",
   "execution_count": 16,
   "metadata": {},
   "outputs": [
    {
     "name": "stdout",
     "output_type": "stream",
     "text": [
      "kernel =  rbf \n",
      "\n",
      "kernel =  linear \n",
      "\n",
      "kernel =  poly \n",
      "\n",
      "kernel =  sigmoid \n",
      "\n",
      "evaluations results:\n",
      "[0.9639038982104676, 0.9639038982104676, 0.9710669934861801, 0.3714602361753353]\n"
     ]
    }
   ],
   "source": [
    "# which kernel perfumes better ?! (f1 score)\n",
    "kernel_list = ['rbf', 'linear','poly', 'sigmoid']\n",
    "eval_list = []\n",
    "for i, kernel in enumerate(kernel_list):\n",
    "    svm_model = svm.SVC(kernel=kernel).fit(x_train, y_train)\n",
    "    y_hat = svm_model.predict(x_test)\n",
    "    eval_model = f1_score(y_test, y_hat, average='weighted')\n",
    "    eval_list.append(eval_model)\n",
    "    print('kernel = ', kernel,'\\n')\n",
    "    \n",
    "print('evaluations results:')    \n",
    "print(eval_list)"
   ]
  },
  {
   "cell_type": "code",
   "execution_count": 17,
   "metadata": {},
   "outputs": [
    {
     "data": {
      "image/png": "[encoded data removed]",
      "text/plain": [
       "<Figure size 432x288 with 1 Axes>"
      ]
     },
     "metadata": {
      "needs_background": "light"
     },
     "output_type": "display_data"
    }
   ],
   "source": [
    "# plotting results:\n",
    "x = [1, 2, 3, 4]\n",
    "x_ticks = ['rbf', 'linear', 'polynomial', 'sigmoid']\n",
    "plt.xticks(x, x_ticks)  # to change 1, 2, 3, 4 => [rbf, linear, polynomial, sigmoid in x-axis]\n",
    "plt.plot(x, eval_list)\n",
    "plt.title('SVM Kernel accuracy results on Prediction')\n",
    "plt.xlabel('Kernel name')\n",
    "plt.ylabel('F1_Score accuracy')\n",
    "plt.show()"
   ]
  }
 ],
 "metadata": {
  "kernelspec": {
   "display_name": "Python 3",
   "language": "python",
   "name": "python3"
  },
  "language_info": {
   "codemirror_mode": {
    "name": "ipython",
    "version": 3
   },
   "file_extension": ".py",
   "mimetype": "text/x-python",
   "name": "python",
   "nbconvert_exporter": "python",
   "pygments_lexer": "ipython3",
   "version": "3.8.5"
  }
 },
 "nbformat": 4,
 "nbformat_minor": 4
}
