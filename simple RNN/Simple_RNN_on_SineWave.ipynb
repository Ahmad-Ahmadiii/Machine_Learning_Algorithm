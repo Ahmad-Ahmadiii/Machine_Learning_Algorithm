{
 "cells": [
  {
   "cell_type": "markdown",
   "id": "f7f4a1cd",
   "metadata": {},
   "source": [
    "# 1) Basic RNN on sine wave:\n",
    "\n",
    "- `Recurrent Neural Network (RNN)`\n",
    "\n",
    "<img src=\"../simple RNN/pictures/RNN_neural_network_01.png\"\n",
    "     style=\"float: left; margin-right: 10px; width: 500px\"/>"
   ]
  },
  {
   "cell_type": "code",
   "execution_count": 1,
   "id": "7d05b5ab",
   "metadata": {},
   "outputs": [],
   "source": [
    "# importing basic libraries:\n",
    "import numpy as np\n",
    "import pandas as pd\n",
    "import matplotlib.pyplot as plt\n",
    "\n",
    "# Tensorflow:\n",
    "from tensorflow.keras.models import Sequential\n",
    "from tensorflow.keras.layers import SimpleRNN, LSTM, Dense\n",
    "from tensorflow.keras.preprocessing.sequence import TimeseriesGenerator\n",
    "\n",
    "# Sklearn:\n",
    "from sklearn.preprocessing import MinMaxScaler"
   ]
  },
  {
   "cell_type": "code",
   "execution_count": 2,
   "id": "2a8e2f59",
   "metadata": {},
   "outputs": [],
   "source": [
    "# creating our data:\n",
    "X_inp = np.linspace(start=0, stop=50, num=501)\n",
    "y_out = np.sin(X_inp)"
   ]
  },
  {
   "cell_type": "code",
   "execution_count": 3,
   "id": "aa446d6c",
   "metadata": {},
   "outputs": [
    {
     "name": "stdout",
     "output_type": "stream",
     "text": [
      "X_inp shape=  (501,)\n",
      "y_out shape=  (501,)\n"
     ]
    }
   ],
   "source": [
    "# shape of our data:\n",
    "print(\"X_inp shape= \", X_inp.shape)\n",
    "print(\"y_out shape= \", y_out.shape)\n"
   ]
  },
  {
   "cell_type": "code",
   "execution_count": 4,
   "id": "233633b2",
   "metadata": {},
   "outputs": [
    {
     "data": {
      "image/png": "[encoded data removed]",
      "text/plain": [
       "<Figure size 432x288 with 1 Axes>"
      ]
     },
     "metadata": {
      "needs_background": "light"
     },
     "output_type": "display_data"
    }
   ],
   "source": [
    "# plotting our data:\n",
    "plt.plot(X_inp, y_out)\n",
    "plt.xlabel(\"X_inp\")\n",
    "plt.ylabel(\"Sin(X_inp)\")\n",
    "plt.legend([\"Sin(X)\"])\n",
    "plt.show()"
   ]
  },
  {
   "cell_type": "code",
   "execution_count": 5,
   "id": "7eefabb5",
   "metadata": {},
   "outputs": [
    {
     "data": {
      "text/html": [
       "<div>\n",
       "<style scoped>\n",
       "    .dataframe tbody tr th:only-of-type {\n",
       "        vertical-align: middle;\n",
       "    }\n",
       "\n",
       "    .dataframe tbody tr th {\n",
       "        vertical-align: top;\n",
       "    }\n",
       "\n",
       "    .dataframe thead th {\n",
       "        text-align: right;\n",
       "    }\n",
       "</style>\n",
       "<table border=\"1\" class=\"dataframe\">\n",
       "  <thead>\n",
       "    <tr style=\"text-align: right;\">\n",
       "      <th></th>\n",
       "      <th>Sin(x)</th>\n",
       "    </tr>\n",
       "  </thead>\n",
       "  <tbody>\n",
       "    <tr>\n",
       "      <th>0.0</th>\n",
       "      <td>0.000000</td>\n",
       "    </tr>\n",
       "    <tr>\n",
       "      <th>0.1</th>\n",
       "      <td>0.099833</td>\n",
       "    </tr>\n",
       "    <tr>\n",
       "      <th>0.2</th>\n",
       "      <td>0.198669</td>\n",
       "    </tr>\n",
       "    <tr>\n",
       "      <th>0.3</th>\n",
       "      <td>0.295520</td>\n",
       "    </tr>\n",
       "    <tr>\n",
       "      <th>0.4</th>\n",
       "      <td>0.389418</td>\n",
       "    </tr>\n",
       "    <tr>\n",
       "      <th>...</th>\n",
       "      <td>...</td>\n",
       "    </tr>\n",
       "    <tr>\n",
       "      <th>49.6</th>\n",
       "      <td>-0.617439</td>\n",
       "    </tr>\n",
       "    <tr>\n",
       "      <th>49.7</th>\n",
       "      <td>-0.535823</td>\n",
       "    </tr>\n",
       "    <tr>\n",
       "      <th>49.8</th>\n",
       "      <td>-0.448854</td>\n",
       "    </tr>\n",
       "    <tr>\n",
       "      <th>49.9</th>\n",
       "      <td>-0.357400</td>\n",
       "    </tr>\n",
       "    <tr>\n",
       "      <th>50.0</th>\n",
       "      <td>-0.262375</td>\n",
       "    </tr>\n",
       "  </tbody>\n",
       "</table>\n",
       "<p>501 rows × 1 columns</p>\n",
       "</div>"
      ],
      "text/plain": [
       "        Sin(x)\n",
       "0.0   0.000000\n",
       "0.1   0.099833\n",
       "0.2   0.198669\n",
       "0.3   0.295520\n",
       "0.4   0.389418\n",
       "...        ...\n",
       "49.6 -0.617439\n",
       "49.7 -0.535823\n",
       "49.8 -0.448854\n",
       "49.9 -0.357400\n",
       "50.0 -0.262375\n",
       "\n",
       "[501 rows x 1 columns]"
      ]
     },
     "execution_count": 5,
     "metadata": {},
     "output_type": "execute_result"
    }
   ],
   "source": [
    "# converting to DataFrame:\n",
    "df = pd.DataFrame(data=y_out, index=X_inp, columns=[\"Sin(x)\"])\n",
    "df"
   ]
  },
  {
   "cell_type": "code",
   "execution_count": 6,
   "id": "79739311",
   "metadata": {},
   "outputs": [],
   "source": [
    "# train / test split:\n",
    "x_test_per = 0.1                       # 0.1 percent of whole data\n",
    "x_test_number = np.round(len(df)*0.1)  # 50 data point for test data\n",
    "x_test_index_s = int(len(df) - x_test_number)"
   ]
  },
  {
   "cell_type": "code",
   "execution_count": 7,
   "id": "2908fe86",
   "metadata": {},
   "outputs": [],
   "source": [
    "# defining x_train & x_test:\n",
    "x_train = df.iloc[:x_test_index_s]\n",
    "x_test = df.iloc[x_test_index_s:]"
   ]
  },
  {
   "cell_type": "code",
   "execution_count": 8,
   "id": "49658b1e",
   "metadata": {},
   "outputs": [],
   "source": [
    "# preprocessing data:\n",
    "# using MinMaxSclaer:\n",
    "MinMax_scaler = MinMaxScaler()\n",
    "MinMax_scaler.fit(x_train)\n",
    "\n",
    "# x_train_scaled:\n",
    "# x_test_scaled:\n",
    "x_train_scaled = MinMax_scaler.transform(x_train)\n",
    "x_test_scaled = MinMax_scaler.transform(x_test)"
   ]
  },
  {
   "cell_type": "code",
   "execution_count": 9,
   "id": "b52a9fd3",
   "metadata": {},
   "outputs": [],
   "source": [
    "# converting data to TimeSeries using TimeseriesGenerator:\n",
    "sequence_length = 50\n",
    "batch_size = 1\n",
    "number_of_features=1\n",
    "\n",
    "TimeSeries_gen = TimeseriesGenerator(data=x_train_scaled,\n",
    "                                     targets=x_train_scaled,\n",
    "                                     length=sequence_length,\n",
    "                                     batch_size=batch_size)"
   ]
  },
  {
   "cell_type": "code",
   "execution_count": 10,
   "id": "c41e6dd8",
   "metadata": {},
   "outputs": [],
   "source": [
    "# creating our RNN model:\n",
    "rnn_model = Sequential()\n",
    "rnn_model.add(SimpleRNN(units=50,\n",
    "                        input_shape=(sequence_length, number_of_features)))\n",
    "rnn_model.add(Dense(1))\n",
    "              \n",
    "\n",
    "rnn_model.compile(optimizer=\"adam\", loss=\"mse\")"
   ]
  },
  {
   "cell_type": "code",
   "execution_count": 11,
   "id": "3cf0a243",
   "metadata": {},
   "outputs": [
    {
     "name": "stdout",
     "output_type": "stream",
     "text": [
      "Model: \"sequential\"\n",
      "_________________________________________________________________\n",
      "Layer (type)                 Output Shape              Param #   \n",
      "=================================================================\n",
      "simple_rnn (SimpleRNN)       (None, 50)                2600      \n",
      "_________________________________________________________________\n",
      "dense (Dense)                (None, 1)                 51        \n",
      "=================================================================\n",
      "Total params: 2,651\n",
      "Trainable params: 2,651\n",
      "Non-trainable params: 0\n",
      "_________________________________________________________________\n"
     ]
    }
   ],
   "source": [
    "# summary of the model:\n",
    "rnn_model.summary()"
   ]
  },
  {
   "cell_type": "code",
   "execution_count": 12,
   "id": "8a9db227",
   "metadata": {},
   "outputs": [
    {
     "name": "stdout",
     "output_type": "stream",
     "text": [
      "Epoch 1/5\n",
      "401/401 [==============================] - 5s 10ms/step - loss: 0.0062\n",
      "Epoch 2/5\n",
      "401/401 [==============================] - 4s 9ms/step - loss: 1.0962e-04\n",
      "Epoch 3/5\n",
      "401/401 [==============================] - 4s 9ms/step - loss: 5.6672e-05\n",
      "Epoch 4/5\n",
      "401/401 [==============================] - 3s 9ms/step - loss: 1.7223e-05\n",
      "Epoch 5/5\n",
      "401/401 [==============================] - 4s 9ms/step - loss: 3.5536e-05\n"
     ]
    },
    {
     "data": {
      "text/plain": [
       "<keras.callbacks.History at 0x2699b088>"
      ]
     },
     "execution_count": 12,
     "metadata": {},
     "output_type": "execute_result"
    }
   ],
   "source": [
    "#\n",
    "rnn_model.fit(TimeSeries_gen, epochs=5)"
   ]
  },
  {
   "cell_type": "code",
   "execution_count": 13,
   "id": "4cb733e2",
   "metadata": {},
   "outputs": [],
   "source": [
    "# saving the model after training:\n",
    "rnn_model.save(\"..\\\\simple RNN\\\\saved_model\\\\sine_wave_predictor.h5\")"
   ]
  },
  {
   "cell_type": "code",
   "execution_count": 14,
   "id": "d8c4005d",
   "metadata": {},
   "outputs": [
    {
     "data": {
      "text/html": [
       "<div>\n",
       "<style scoped>\n",
       "    .dataframe tbody tr th:only-of-type {\n",
       "        vertical-align: middle;\n",
       "    }\n",
       "\n",
       "    .dataframe tbody tr th {\n",
       "        vertical-align: top;\n",
       "    }\n",
       "\n",
       "    .dataframe thead th {\n",
       "        text-align: right;\n",
       "    }\n",
       "</style>\n",
       "<table border=\"1\" class=\"dataframe\">\n",
       "  <thead>\n",
       "    <tr style=\"text-align: right;\">\n",
       "      <th></th>\n",
       "      <th>loss</th>\n",
       "    </tr>\n",
       "  </thead>\n",
       "  <tbody>\n",
       "    <tr>\n",
       "      <th>0</th>\n",
       "      <td>0.006246</td>\n",
       "    </tr>\n",
       "    <tr>\n",
       "      <th>1</th>\n",
       "      <td>0.000110</td>\n",
       "    </tr>\n",
       "    <tr>\n",
       "      <th>2</th>\n",
       "      <td>0.000057</td>\n",
       "    </tr>\n",
       "    <tr>\n",
       "      <th>3</th>\n",
       "      <td>0.000017</td>\n",
       "    </tr>\n",
       "    <tr>\n",
       "      <th>4</th>\n",
       "      <td>0.000036</td>\n",
       "    </tr>\n",
       "  </tbody>\n",
       "</table>\n",
       "</div>"
      ],
      "text/plain": [
       "       loss\n",
       "0  0.006246\n",
       "1  0.000110\n",
       "2  0.000057\n",
       "3  0.000017\n",
       "4  0.000036"
      ]
     },
     "execution_count": 14,
     "metadata": {},
     "output_type": "execute_result"
    }
   ],
   "source": [
    "# losses:\n",
    "losses = pd.DataFrame(data=rnn_model.history.history)\n",
    "losses"
   ]
  },
  {
   "cell_type": "code",
   "execution_count": 15,
   "id": "6cc9263e",
   "metadata": {},
   "outputs": [
    {
     "data": {
      "text/plain": [
       "<AxesSubplot:>"
      ]
     },
     "execution_count": 15,
     "metadata": {},
     "output_type": "execute_result"
    },
    {
     "data": {
      "image/png": "[encoded data removed]",
      "text/plain": [
       "<Figure size 432x288 with 1 Axes>"
      ]
     },
     "metadata": {
      "needs_background": "light"
     },
     "output_type": "display_data"
    }
   ],
   "source": [
    "losses.plot()"
   ]
  },
  {
   "cell_type": "code",
   "execution_count": 16,
   "id": "05631d1b",
   "metadata": {},
   "outputs": [],
   "source": [
    "# evaluation on one example:\n",
    "# meaning given 50 data points, it'll predict => 51\n",
    "first_eval_batch_01 = x_train_scaled[-sequence_length:]\n",
    "\n",
    "# then we need to reshape the input so that it'll be compatible with network expected input shape:\n",
    "# which is (batch_size, sequence_length, number_of_features)\n",
    "first_eval_batch_01 = first_eval_batch_01.reshape(1, sequence_length, number_of_features)"
   ]
  },
  {
   "cell_type": "code",
   "execution_count": 17,
   "id": "fb5d9ac3",
   "metadata": {},
   "outputs": [],
   "source": [
    "# predicting the output:\n",
    "predicted_by_network = rnn_model.predict(first_eval_batch_01)[0]\n",
    "\n",
    "# the real output:\n",
    "real_output = x_test_scaled[0]"
   ]
  },
  {
   "cell_type": "code",
   "execution_count": 18,
   "id": "5931adff",
   "metadata": {},
   "outputs": [
    {
     "name": "stdout",
     "output_type": "stream",
     "text": [
      "the network output:  [0.94764173]\n",
      "the real output:  [0.94955134]\n"
     ]
    }
   ],
   "source": [
    "print(\"the network output: \", predicted_by_network)\n",
    "print(\"the real output: \", real_output)"
   ]
  },
  {
   "cell_type": "code",
   "execution_count": 19,
   "id": "1d257611",
   "metadata": {},
   "outputs": [],
   "source": [
    "# putting the above logic into a for loop for all datapoints:\n",
    "test_predictions = []\n",
    "first_eval_batch = x_train_scaled[-sequence_length:]\n",
    "current_batch = first_eval_batch.reshape(1, sequence_length, number_of_features)\n",
    "\n",
    "for i in range(len(x_test)):\n",
    "    current_batch_pred = rnn_model.predict(current_batch)[0]\n",
    "    test_predictions.append(current_batch_pred)\n",
    "    current_batch = np.append(current_batch[:, 1:, :], [[current_batch_pred]], axis=1)\n",
    "    \n",
    "    "
   ]
  },
  {
   "cell_type": "code",
   "execution_count": 20,
   "id": "f4d15088",
   "metadata": {},
   "outputs": [
    {
     "name": "stdout",
     "output_type": "stream",
     "text": [
      "all predictions:\n",
      " they're scaled version:\n",
      " [[9.4764173e-01]\n",
      " [9.6653759e-01]\n",
      " [9.8097551e-01]\n",
      " [9.9063945e-01]\n",
      " [9.9559569e-01]\n",
      " [9.9547744e-01]\n",
      " [9.8984754e-01]\n",
      " [9.7961855e-01]\n",
      " [9.6472049e-01]\n",
      " [9.4508600e-01]\n",
      " [9.2167008e-01]\n",
      " [8.9358687e-01]\n",
      " [8.6119545e-01]\n",
      " [8.2545507e-01]\n",
      " [7.8630042e-01]\n",
      " [7.4439263e-01]\n",
      " [7.0038295e-01]\n",
      " [6.5410650e-01]\n",
      " [6.0604393e-01]\n",
      " [5.5695915e-01]\n",
      " [5.0697184e-01]\n",
      " [4.5694947e-01]\n",
      " [4.0747327e-01]\n",
      " [3.5860088e-01]\n",
      " [3.1114152e-01]\n",
      " [2.6529339e-01]\n",
      " [2.2159243e-01]\n",
      " [1.8089753e-01]\n",
      " [1.4334452e-01]\n",
      " [1.0941476e-01]\n",
      " [7.9660460e-02]\n",
      " [5.4110721e-02]\n",
      " [3.3150878e-02]\n",
      " [1.7225552e-02]\n",
      " [6.2379865e-03]\n",
      " [6.2091090e-04]\n",
      " [1.8529035e-04]\n",
      " [4.6135718e-03]\n",
      " [1.4415932e-02]\n",
      " [2.9010689e-02]\n",
      " [4.8025668e-02]\n",
      " [7.1844637e-02]\n",
      " [9.9505246e-02]\n",
      " [1.3089579e-01]\n",
      " [1.6616106e-01]\n",
      " [2.0418647e-01]\n",
      " [2.4496412e-01]\n",
      " [2.8840059e-01]\n",
      " [3.3326143e-01]\n",
      " [3.7989426e-01]]\n"
     ]
    }
   ],
   "source": [
    "test_predictions_arr = np.array(test_predictions)\n",
    "print(\"all predictions:\\n\",\"they're scaled version:\\n\", test_predictions_arr)\n"
   ]
  },
  {
   "cell_type": "code",
   "execution_count": 21,
   "id": "acaba83a",
   "metadata": {},
   "outputs": [
    {
     "name": "stdout",
     "output_type": "stream",
     "text": [
      "true predictions values:\n",
      " [[ 0.89527804]\n",
      " [ 0.93306947]\n",
      " [ 0.96194506]\n",
      " [ 0.9812728 ]\n",
      " [ 0.99118525]\n",
      " [ 0.99094874]\n",
      " [ 0.979689  ]\n",
      " [ 0.9592312 ]\n",
      " [ 0.9294353 ]\n",
      " [ 0.89016664]\n",
      " [ 0.84333515]\n",
      " [ 0.7871692 ]\n",
      " [ 0.7223869 ]\n",
      " [ 0.6509067 ]\n",
      " [ 0.57259804]\n",
      " [ 0.4887831 ]\n",
      " [ 0.40076444]\n",
      " [ 0.30821228]\n",
      " [ 0.21208794]\n",
      " [ 0.11391915]\n",
      " [ 0.01394533]\n",
      " [-0.0860986 ]\n",
      " [-0.1850502 ]\n",
      " [-0.2827942 ]\n",
      " [-0.37771216]\n",
      " [-0.4694077 ]\n",
      " [-0.5568089 ]\n",
      " [-0.638198  ]\n",
      " [-0.71330345]\n",
      " [-0.78116244]\n",
      " [-0.8406706 ]\n",
      " [-0.89176965]\n",
      " [-0.93368894]\n",
      " [-0.9655394 ]\n",
      " [-0.9875143 ]\n",
      " [-0.9987484 ]\n",
      " [-0.9996196 ]\n",
      " [-0.9907632 ]\n",
      " [-0.97115856]\n",
      " [-0.9419693 ]\n",
      " [-0.9039396 ]\n",
      " [-0.8563021 ]\n",
      " [-0.8009813 ]\n",
      " [-0.7382007 ]\n",
      " [-0.6676707 ]\n",
      " [-0.5916205 ]\n",
      " [-0.51006585]\n",
      " [-0.42319366]\n",
      " [-0.3334727 ]\n",
      " [-0.24020779]]\n"
     ]
    }
   ],
   "source": [
    "# conveting scaled version of predictoins to true values:\n",
    "true_predictions = MinMax_scaler.inverse_transform(test_predictions_arr)\n",
    "print(\"true predictions values:\\n\", true_predictions)"
   ]
  },
  {
   "cell_type": "code",
   "execution_count": 22,
   "id": "361642ac",
   "metadata": {},
   "outputs": [
    {
     "name": "stderr",
     "output_type": "stream",
     "text": [
      "e:\\app_special\\anaconda_onwin\\envs\\mytfenv\\lib\\site-packages\\ipykernel_launcher.py:3: SettingWithCopyWarning: \n",
      "A value is trying to be set on a copy of a slice from a DataFrame.\n",
      "Try using .loc[row_indexer,col_indexer] = value instead\n",
      "\n",
      "See the caveats in the documentation: https://pandas.pydata.org/pandas-docs/stable/user_guide/indexing.html#returning-a-view-versus-a-copy\n",
      "  This is separate from the ipykernel package so we can avoid doing imports until\n"
     ]
    }
   ],
   "source": [
    "# adding preditions permanantly:\n",
    "# ignore the error:\n",
    "x_test['predictoins'] = true_predictions"
   ]
  },
  {
   "cell_type": "code",
   "execution_count": 23,
   "id": "b42cc5e2",
   "metadata": {},
   "outputs": [
    {
     "data": {
      "image/png": "[encoded data removed]",
      "text/plain": [
       "<Figure size 720x360 with 1 Axes>"
      ]
     },
     "metadata": {
      "needs_background": "light"
     },
     "output_type": "display_data"
    }
   ],
   "source": [
    "# plotting the result:\n",
    "x_test.plot(figsize=(10, 5))\n",
    "plt.show()"
   ]
  },
  {
   "cell_type": "code",
   "execution_count": null,
   "id": "28a657e3",
   "metadata": {},
   "outputs": [],
   "source": []
  }
 ],
 "metadata": {
  "kernelspec": {
   "display_name": "Python 3 (ipykernel)",
   "language": "python",
   "name": "python3"
  },
  "language_info": {
   "codemirror_mode": {
    "name": "ipython",
    "version": 3
   },
   "file_extension": ".py",
   "mimetype": "text/x-python",
   "name": "python",
   "nbconvert_exporter": "python",
   "pygments_lexer": "ipython3",
   "version": "3.7.11"
  }
 },
 "nbformat": 4,
 "nbformat_minor": 5
}
