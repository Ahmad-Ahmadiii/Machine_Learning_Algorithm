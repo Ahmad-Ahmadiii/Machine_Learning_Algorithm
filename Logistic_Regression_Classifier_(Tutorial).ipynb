{
 "cells": [
  {
   "cell_type": "markdown",
   "metadata": {},
   "source": [
    "### Machine Learning Algorithm:\n",
    "___\n",
    "\n",
    "* from **IBM corporation Course by:(Sr.Data Scientist Saeed Aghabozorgi)**\n",
    "* coding by: **(Ahmad Ahmadi)**\n",
    "___\n",
    "### 6) <mark>Logistic Regression:</mark>\n",
    "\n",
    "- it's a <mark>supervised</mark>  learning algorithm.\n",
    "- although Linear Regression is suitable for estimating continuous features, it is not the best tool for predicting the `calss`of an observed data. \n",
    "\n",
    "<div class=\"alert alert-success alertsuccess\" style=\"margin-top: 20px\">\n",
    "<font size = 3><strong>recall Linear Regression:</strong></font>\n",
    "<br>\n",
    "<br>\n",
    "as you may remember, <b>linear regression</b> finds a function that relates a continuous dependent variable (y) to some indepedent variables. (i.e. $x_1, x_2$)\n",
    "$$ y = (\\theta_1 \\times x_1) + (\\theta_2\\times x_2) + ... (\\theta_n \\times x_n) $$\n",
    "<br>\n",
    "</div> \n",
    "    \n",
    "<div class=\"alert alert-success alertsuccess\" style=\"margin-top: 20px\">\n",
    "<font size = 3><strong>Logistic Regresion:</strong></font>\n",
    "<br>\n",
    "<br>\n",
    "<b> - Logistic Regression</b> is a variation of <u>linear regression</u>, useful when the observed dependent variable (y), is categorical.<br>\n",
    "<b>- Logistic regression</b> fits a special s-shaped curve by taking the linear regression function and transforming the numeric estimate into a probability with the following function, which is called the sigmoid function $\\sigma$:\n",
    "<br> \n",
    "<br> $$\\sigma({\\theta^TX}) =  \\frac {e^{(\\theta\\_0 + \\theta\\_1  x\\_1 + \\theta\\_2  x\\_2 +...)}}{1 + e^{(\\theta\\_0 + \\theta\\_1  x\\_1 + \\theta\\_2  x\\_2 +\\cdots)}} $$    \n",
    "</div>    \n",
    "    \n",
    "       \n",
    "<img src=\"https://miro.medium.com/max/1200/1*E8c5gbGzT7Rwl8BJUACELg.png\">\n",
    "<caption><center><u><b> Figure 1</u></b>: \"Linear Regression Vs Logistic Regression\"</caption>    "
   ]
  },
  {
   "cell_type": "code",
   "execution_count": null,
   "metadata": {},
   "outputs": [],
   "source": []
  },
  {
   "cell_type": "code",
   "execution_count": null,
   "metadata": {},
   "outputs": [],
   "source": []
  }
 ],
 "metadata": {
  "kernelspec": {
   "display_name": "Python 3",
   "language": "python",
   "name": "python3"
  },
  "language_info": {
   "codemirror_mode": {
    "name": "ipython",
    "version": 3
   },
   "file_extension": ".py",
   "mimetype": "text/x-python",
   "name": "python",
   "nbconvert_exporter": "python",
   "pygments_lexer": "ipython3",
   "version": "3.8.5"
  }
 },
 "nbformat": 4,
 "nbformat_minor": 4
}
