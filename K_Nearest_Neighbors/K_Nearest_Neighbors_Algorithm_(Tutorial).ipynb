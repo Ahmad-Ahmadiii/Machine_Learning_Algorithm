{
 "cells": [
  {
   "cell_type": "markdown",
   "metadata": {},
   "source": [
    "### Machine Learning Algorithm:\n",
    "___\n",
    "\n",
    "* from **IBM corporation Course by:(Sr.Data Scientist Saeed Aghabozorgi)**\n",
    "* coding by: **(Ahmad Ahmadi)**\n",
    "___\n",
    "### 4) K-Nearest Neighobrs (KNN):\n",
    "\n",
    "- it's a `supervised`  learning algorithm.\n",
    "- data is trained with each data point coressponding to their `classification.`\n",
    "<br>\n",
    "<img src=\"https://miro.medium.com/max/376/1*rLz1WJep3X8HMJZbXsvrXg.png\" />\n",
    "<caption><center> <u><b> Figure 1</u></b> : K-NN Algorithm<br> </center></caption>\n",
    "<br>\n",
    "\n",
    "- **in this case,** we have data points of `Class (A)` and `Class (B)`;\n",
    "- we want to predict,which Class the question mark (test data) (`displayed in figure 1`) belongs to?\n",
    "- if we consider a k of value 3 `(k = 3)`, meaning three nearest data point, we will get prediction of Class (B).\n",
    "- if we consice a k of value 7 `(k = 7)`, meaning seven nearest data point, we will get predicion of Class (A).\n",
    "- because the **majority** of data points classes within K nearest neighbors, defining the Class of prediction.\n",
    "\n",
    "<br>\n",
    "<img src=\"https://miro.medium.com/max/650/1*OyYyr9qY-w8RkaRh2TKo0w.png\" />\n",
    "<caption><center><u><b> Figure 2 </u></b>: K-NN Algorithm<br></center></caption>\n",
    "<br>"
   ]
  },
  {
   "cell_type": "code",
   "execution_count": 1,
   "metadata": {},
   "outputs": [],
   "source": [
    "# importing packages:\n",
    "# pandas = for reading data sheet:\n",
    "\n",
    "import numpy as np\n",
    "import pandas as pd\n",
    "import matplotlib.pyplot as plt\n",
    "\n",
    "# from sklearn:\n",
    "from sklearn import metrics             # for evaluation of model:\n",
    "from sklearn import preprocessing   # for preprocessing and standardization of  inputs data.\n",
    "from sklearn.neighbors import KNeighborsClassifier             # selection the model algotrithm.\n",
    "from sklearn.model_selection import train_test_split           # split data to train and test\n"
   ]
  },
  {
   "cell_type": "code",
   "execution_count": 2,
   "metadata": {},
   "outputs": [],
   "source": [
    "# reading data using pandas:\n",
    "excel_data = pd.read_excel('tele_cust.xlsx')\n"
   ]
  },
  {
   "cell_type": "code",
   "execution_count": 3,
   "metadata": {},
   "outputs": [
    {
     "data": {
      "text/html": [
       "<div>\n",
       "<style scoped>\n",
       "    .dataframe tbody tr th:only-of-type {\n",
       "        vertical-align: middle;\n",
       "    }\n",
       "\n",
       "    .dataframe tbody tr th {\n",
       "        vertical-align: top;\n",
       "    }\n",
       "\n",
       "    .dataframe thead th {\n",
       "        text-align: right;\n",
       "    }\n",
       "</style>\n",
       "<table border=\"1\" class=\"dataframe\">\n",
       "  <thead>\n",
       "    <tr style=\"text-align: right;\">\n",
       "      <th></th>\n",
       "      <th>region</th>\n",
       "      <th>tenure</th>\n",
       "      <th>age</th>\n",
       "      <th>marital</th>\n",
       "      <th>address</th>\n",
       "      <th>income</th>\n",
       "      <th>education</th>\n",
       "      <th>employ</th>\n",
       "      <th>retire</th>\n",
       "      <th>gender</th>\n",
       "      <th>reside</th>\n",
       "      <th>custcat</th>\n",
       "    </tr>\n",
       "  </thead>\n",
       "  <tbody>\n",
       "    <tr>\n",
       "      <th>0</th>\n",
       "      <td>2</td>\n",
       "      <td>13</td>\n",
       "      <td>44</td>\n",
       "      <td>1</td>\n",
       "      <td>9</td>\n",
       "      <td>64</td>\n",
       "      <td>4</td>\n",
       "      <td>5</td>\n",
       "      <td>0</td>\n",
       "      <td>0</td>\n",
       "      <td>2</td>\n",
       "      <td>1</td>\n",
       "    </tr>\n",
       "    <tr>\n",
       "      <th>1</th>\n",
       "      <td>3</td>\n",
       "      <td>11</td>\n",
       "      <td>33</td>\n",
       "      <td>1</td>\n",
       "      <td>7</td>\n",
       "      <td>136</td>\n",
       "      <td>5</td>\n",
       "      <td>5</td>\n",
       "      <td>0</td>\n",
       "      <td>0</td>\n",
       "      <td>6</td>\n",
       "      <td>4</td>\n",
       "    </tr>\n",
       "    <tr>\n",
       "      <th>2</th>\n",
       "      <td>3</td>\n",
       "      <td>68</td>\n",
       "      <td>52</td>\n",
       "      <td>1</td>\n",
       "      <td>24</td>\n",
       "      <td>116</td>\n",
       "      <td>1</td>\n",
       "      <td>29</td>\n",
       "      <td>0</td>\n",
       "      <td>1</td>\n",
       "      <td>2</td>\n",
       "      <td>3</td>\n",
       "    </tr>\n",
       "    <tr>\n",
       "      <th>3</th>\n",
       "      <td>2</td>\n",
       "      <td>33</td>\n",
       "      <td>33</td>\n",
       "      <td>0</td>\n",
       "      <td>12</td>\n",
       "      <td>33</td>\n",
       "      <td>2</td>\n",
       "      <td>0</td>\n",
       "      <td>0</td>\n",
       "      <td>1</td>\n",
       "      <td>1</td>\n",
       "      <td>1</td>\n",
       "    </tr>\n",
       "    <tr>\n",
       "      <th>4</th>\n",
       "      <td>2</td>\n",
       "      <td>23</td>\n",
       "      <td>30</td>\n",
       "      <td>1</td>\n",
       "      <td>9</td>\n",
       "      <td>30</td>\n",
       "      <td>1</td>\n",
       "      <td>2</td>\n",
       "      <td>0</td>\n",
       "      <td>0</td>\n",
       "      <td>4</td>\n",
       "      <td>3</td>\n",
       "    </tr>\n",
       "    <tr>\n",
       "      <th>5</th>\n",
       "      <td>2</td>\n",
       "      <td>41</td>\n",
       "      <td>39</td>\n",
       "      <td>0</td>\n",
       "      <td>17</td>\n",
       "      <td>78</td>\n",
       "      <td>2</td>\n",
       "      <td>16</td>\n",
       "      <td>0</td>\n",
       "      <td>1</td>\n",
       "      <td>1</td>\n",
       "      <td>3</td>\n",
       "    </tr>\n",
       "    <tr>\n",
       "      <th>6</th>\n",
       "      <td>3</td>\n",
       "      <td>45</td>\n",
       "      <td>22</td>\n",
       "      <td>1</td>\n",
       "      <td>2</td>\n",
       "      <td>19</td>\n",
       "      <td>2</td>\n",
       "      <td>4</td>\n",
       "      <td>0</td>\n",
       "      <td>1</td>\n",
       "      <td>5</td>\n",
       "      <td>2</td>\n",
       "    </tr>\n",
       "    <tr>\n",
       "      <th>7</th>\n",
       "      <td>2</td>\n",
       "      <td>38</td>\n",
       "      <td>35</td>\n",
       "      <td>0</td>\n",
       "      <td>5</td>\n",
       "      <td>76</td>\n",
       "      <td>2</td>\n",
       "      <td>10</td>\n",
       "      <td>0</td>\n",
       "      <td>0</td>\n",
       "      <td>3</td>\n",
       "      <td>4</td>\n",
       "    </tr>\n",
       "    <tr>\n",
       "      <th>8</th>\n",
       "      <td>3</td>\n",
       "      <td>45</td>\n",
       "      <td>59</td>\n",
       "      <td>1</td>\n",
       "      <td>7</td>\n",
       "      <td>166</td>\n",
       "      <td>4</td>\n",
       "      <td>31</td>\n",
       "      <td>0</td>\n",
       "      <td>0</td>\n",
       "      <td>5</td>\n",
       "      <td>3</td>\n",
       "    </tr>\n",
       "    <tr>\n",
       "      <th>9</th>\n",
       "      <td>1</td>\n",
       "      <td>68</td>\n",
       "      <td>41</td>\n",
       "      <td>1</td>\n",
       "      <td>21</td>\n",
       "      <td>72</td>\n",
       "      <td>1</td>\n",
       "      <td>22</td>\n",
       "      <td>0</td>\n",
       "      <td>0</td>\n",
       "      <td>3</td>\n",
       "      <td>2</td>\n",
       "    </tr>\n",
       "  </tbody>\n",
       "</table>\n",
       "</div>"
      ],
      "text/plain": [
       "   region  tenure  age  marital  address  income  education  employ  retire  \\\n",
       "0       2      13   44        1        9      64          4       5       0   \n",
       "1       3      11   33        1        7     136          5       5       0   \n",
       "2       3      68   52        1       24     116          1      29       0   \n",
       "3       2      33   33        0       12      33          2       0       0   \n",
       "4       2      23   30        1        9      30          1       2       0   \n",
       "5       2      41   39        0       17      78          2      16       0   \n",
       "6       3      45   22        1        2      19          2       4       0   \n",
       "7       2      38   35        0        5      76          2      10       0   \n",
       "8       3      45   59        1        7     166          4      31       0   \n",
       "9       1      68   41        1       21      72          1      22       0   \n",
       "\n",
       "   gender  reside  custcat  \n",
       "0       0       2        1  \n",
       "1       0       6        4  \n",
       "2       1       2        3  \n",
       "3       1       1        1  \n",
       "4       0       4        3  \n",
       "5       1       1        3  \n",
       "6       1       5        2  \n",
       "7       0       3        4  \n",
       "8       0       5        3  \n",
       "9       0       3        2  "
      ]
     },
     "execution_count": 3,
     "metadata": {},
     "output_type": "execute_result"
    }
   ],
   "source": [
    "# looking at 10 rows of dataset:\n",
    "excel_data.head(10)"
   ]
  },
  {
   "cell_type": "code",
   "execution_count": 4,
   "metadata": {},
   "outputs": [
    {
     "data": {
      "text/html": [
       "<div>\n",
       "<style scoped>\n",
       "    .dataframe tbody tr th:only-of-type {\n",
       "        vertical-align: middle;\n",
       "    }\n",
       "\n",
       "    .dataframe tbody tr th {\n",
       "        vertical-align: top;\n",
       "    }\n",
       "\n",
       "    .dataframe thead th {\n",
       "        text-align: right;\n",
       "    }\n",
       "</style>\n",
       "<table border=\"1\" class=\"dataframe\">\n",
       "  <thead>\n",
       "    <tr style=\"text-align: right;\">\n",
       "      <th></th>\n",
       "      <th>region</th>\n",
       "      <th>tenure</th>\n",
       "      <th>age</th>\n",
       "      <th>marital</th>\n",
       "      <th>address</th>\n",
       "      <th>income</th>\n",
       "      <th>education</th>\n",
       "      <th>employ</th>\n",
       "      <th>retire</th>\n",
       "      <th>gender</th>\n",
       "      <th>reside</th>\n",
       "      <th>custcat</th>\n",
       "    </tr>\n",
       "  </thead>\n",
       "  <tbody>\n",
       "    <tr>\n",
       "      <th>count</th>\n",
       "      <td>1000.0000</td>\n",
       "      <td>1000.000000</td>\n",
       "      <td>1000.000000</td>\n",
       "      <td>1000.000000</td>\n",
       "      <td>1000.000000</td>\n",
       "      <td>1000.000000</td>\n",
       "      <td>1000.000000</td>\n",
       "      <td>1000.000000</td>\n",
       "      <td>1000.000000</td>\n",
       "      <td>1000.000000</td>\n",
       "      <td>1000.000000</td>\n",
       "      <td>1000.000000</td>\n",
       "    </tr>\n",
       "    <tr>\n",
       "      <th>mean</th>\n",
       "      <td>2.0220</td>\n",
       "      <td>35.526000</td>\n",
       "      <td>41.684000</td>\n",
       "      <td>0.495000</td>\n",
       "      <td>11.551000</td>\n",
       "      <td>77.535000</td>\n",
       "      <td>2.671000</td>\n",
       "      <td>10.987000</td>\n",
       "      <td>0.047000</td>\n",
       "      <td>0.517000</td>\n",
       "      <td>2.331000</td>\n",
       "      <td>2.487000</td>\n",
       "    </tr>\n",
       "    <tr>\n",
       "      <th>std</th>\n",
       "      <td>0.8162</td>\n",
       "      <td>21.359812</td>\n",
       "      <td>12.558816</td>\n",
       "      <td>0.500225</td>\n",
       "      <td>10.086681</td>\n",
       "      <td>107.044165</td>\n",
       "      <td>1.222397</td>\n",
       "      <td>10.082087</td>\n",
       "      <td>0.211745</td>\n",
       "      <td>0.499961</td>\n",
       "      <td>1.435793</td>\n",
       "      <td>1.120306</td>\n",
       "    </tr>\n",
       "    <tr>\n",
       "      <th>min</th>\n",
       "      <td>1.0000</td>\n",
       "      <td>1.000000</td>\n",
       "      <td>18.000000</td>\n",
       "      <td>0.000000</td>\n",
       "      <td>0.000000</td>\n",
       "      <td>9.000000</td>\n",
       "      <td>1.000000</td>\n",
       "      <td>0.000000</td>\n",
       "      <td>0.000000</td>\n",
       "      <td>0.000000</td>\n",
       "      <td>1.000000</td>\n",
       "      <td>1.000000</td>\n",
       "    </tr>\n",
       "    <tr>\n",
       "      <th>25%</th>\n",
       "      <td>1.0000</td>\n",
       "      <td>17.000000</td>\n",
       "      <td>32.000000</td>\n",
       "      <td>0.000000</td>\n",
       "      <td>3.000000</td>\n",
       "      <td>29.000000</td>\n",
       "      <td>2.000000</td>\n",
       "      <td>3.000000</td>\n",
       "      <td>0.000000</td>\n",
       "      <td>0.000000</td>\n",
       "      <td>1.000000</td>\n",
       "      <td>1.000000</td>\n",
       "    </tr>\n",
       "    <tr>\n",
       "      <th>50%</th>\n",
       "      <td>2.0000</td>\n",
       "      <td>34.000000</td>\n",
       "      <td>40.000000</td>\n",
       "      <td>0.000000</td>\n",
       "      <td>9.000000</td>\n",
       "      <td>47.000000</td>\n",
       "      <td>3.000000</td>\n",
       "      <td>8.000000</td>\n",
       "      <td>0.000000</td>\n",
       "      <td>1.000000</td>\n",
       "      <td>2.000000</td>\n",
       "      <td>3.000000</td>\n",
       "    </tr>\n",
       "    <tr>\n",
       "      <th>75%</th>\n",
       "      <td>3.0000</td>\n",
       "      <td>54.000000</td>\n",
       "      <td>51.000000</td>\n",
       "      <td>1.000000</td>\n",
       "      <td>18.000000</td>\n",
       "      <td>83.000000</td>\n",
       "      <td>4.000000</td>\n",
       "      <td>17.000000</td>\n",
       "      <td>0.000000</td>\n",
       "      <td>1.000000</td>\n",
       "      <td>3.000000</td>\n",
       "      <td>3.000000</td>\n",
       "    </tr>\n",
       "    <tr>\n",
       "      <th>max</th>\n",
       "      <td>3.0000</td>\n",
       "      <td>72.000000</td>\n",
       "      <td>77.000000</td>\n",
       "      <td>1.000000</td>\n",
       "      <td>55.000000</td>\n",
       "      <td>1668.000000</td>\n",
       "      <td>5.000000</td>\n",
       "      <td>47.000000</td>\n",
       "      <td>1.000000</td>\n",
       "      <td>1.000000</td>\n",
       "      <td>8.000000</td>\n",
       "      <td>4.000000</td>\n",
       "    </tr>\n",
       "  </tbody>\n",
       "</table>\n",
       "</div>"
      ],
      "text/plain": [
       "          region       tenure          age      marital      address  \\\n",
       "count  1000.0000  1000.000000  1000.000000  1000.000000  1000.000000   \n",
       "mean      2.0220    35.526000    41.684000     0.495000    11.551000   \n",
       "std       0.8162    21.359812    12.558816     0.500225    10.086681   \n",
       "min       1.0000     1.000000    18.000000     0.000000     0.000000   \n",
       "25%       1.0000    17.000000    32.000000     0.000000     3.000000   \n",
       "50%       2.0000    34.000000    40.000000     0.000000     9.000000   \n",
       "75%       3.0000    54.000000    51.000000     1.000000    18.000000   \n",
       "max       3.0000    72.000000    77.000000     1.000000    55.000000   \n",
       "\n",
       "            income    education       employ       retire       gender  \\\n",
       "count  1000.000000  1000.000000  1000.000000  1000.000000  1000.000000   \n",
       "mean     77.535000     2.671000    10.987000     0.047000     0.517000   \n",
       "std     107.044165     1.222397    10.082087     0.211745     0.499961   \n",
       "min       9.000000     1.000000     0.000000     0.000000     0.000000   \n",
       "25%      29.000000     2.000000     3.000000     0.000000     0.000000   \n",
       "50%      47.000000     3.000000     8.000000     0.000000     1.000000   \n",
       "75%      83.000000     4.000000    17.000000     0.000000     1.000000   \n",
       "max    1668.000000     5.000000    47.000000     1.000000     1.000000   \n",
       "\n",
       "            reside      custcat  \n",
       "count  1000.000000  1000.000000  \n",
       "mean      2.331000     2.487000  \n",
       "std       1.435793     1.120306  \n",
       "min       1.000000     1.000000  \n",
       "25%       1.000000     1.000000  \n",
       "50%       2.000000     3.000000  \n",
       "75%       3.000000     3.000000  \n",
       "max       8.000000     4.000000  "
      ]
     },
     "execution_count": 4,
     "metadata": {},
     "output_type": "execute_result"
    }
   ],
   "source": [
    "# statistical features of data (i.e : mean, median, std and ...)\n",
    "excel_data.describe()"
   ]
  },
  {
   "cell_type": "code",
   "execution_count": 5,
   "metadata": {},
   "outputs": [
    {
     "data": {
      "text/plain": [
       "3    281\n",
       "1    266\n",
       "4    236\n",
       "2    217\n",
       "Name: custcat, dtype: int64"
      ]
     },
     "execution_count": 5,
     "metadata": {},
     "output_type": "execute_result"
    }
   ],
   "source": [
    "# numbers of each class in our dataset:\n",
    "excel_data['custcat'].value_counts()    # custcat = customer category [1, 2, 3, 4]"
   ]
  },
  {
   "cell_type": "markdown",
   "metadata": {},
   "source": [
    "___\n",
    "\n",
    "- This means;\n",
    " - we have **281 numbers of Class (3)**\n",
    " - we have **266 numbers of Class (1)**\n",
    " - and so on ...\n",
    " ____"
   ]
  },
  {
   "cell_type": "code",
   "execution_count": 6,
   "metadata": {},
   "outputs": [
    {
     "data": {
      "image/png": "[encoded data removed]",
      "text/plain": [
       "<Figure size 432x432 with 1 Axes>"
      ]
     },
     "metadata": {},
     "output_type": "display_data"
    }
   ],
   "source": [
    "# plotting data:\n",
    "plt.figure(figsize=(6, 6), facecolor='yellow')   # size of output plot \n",
    "plt.hist(excel_data[['income']], bins=10)       # histogram plot\n",
    "plt.xlabel('Income')\n",
    "plt.ylabel('Frequency')\n",
    "plt.show()"
   ]
  },
  {
   "cell_type": "code",
   "execution_count": 7,
   "metadata": {},
   "outputs": [
    {
     "data": {
      "image/png": "[encoded data removed]",
      "text/plain": [
       "<Figure size 1008x504 with 2 Axes>"
      ]
     },
     "metadata": {
      "needs_background": "light"
     },
     "output_type": "display_data"
    }
   ],
   "source": [
    "# plotting data (age, education)\n",
    "\n",
    "plt.subplots(figsize=(14, 7))     # defining size of output plots.\n",
    "\n",
    "plt.subplot(1, 2, 1)                  # used to plot multiple plots.\n",
    "plt.hist(excel_data[['age']])\n",
    "plt.xlabel('Age')\n",
    "plt.ylabel('Frequency')\n",
    "\n",
    "plt.subplot(1, 2, 2)\n",
    "plt.hist(excel_data[['education']])\n",
    "plt.xlabel('Education')\n",
    "plt.ylabel('Frequency')\n",
    "\n",
    "plt.show()"
   ]
  },
  {
   "cell_type": "markdown",
   "metadata": {},
   "source": [
    "___\n",
    "- to convert pandas DataFrame data into numpy array we can use:<br>\n",
    "1) **DataFrame.values**<br>\n",
    "2) **DataFrame.to_numpy()**<br>\n",
    "3) **np.asarray(DataFrame)**<br>\n",
    "___"
   ]
  },
  {
   "cell_type": "code",
   "execution_count": 8,
   "metadata": {},
   "outputs": [
    {
     "name": "stdout",
     "output_type": "stream",
     "text": [
      "input data:\n",
      " [ 2 41 39  0 17 78  2 16  0  1  1] \n",
      "\n",
      "output: \n",
      " [1 4 3 1 3] \n",
      "\n",
      "input shape =  (1000, 11) \n",
      "\n",
      "output shape =  (1000,) \n",
      "\n"
     ]
    }
   ],
   "source": [
    "x_inp = excel_data[['region', 'tenure','age', 'marital', 'address', 'income', 'education',\n",
    "                              'employ','retire', 'gender', 'reside']].values   # to convert datafram(excel_data) to numpy array (x_inp)\n",
    "\n",
    "print(\"input data:\\n\", x_inp[5, :], \"\\n\")\n",
    "y_out = excel_data[['custcat']].values     # custcat = customer category\n",
    "y_out =y_out.reshape(y_out.shape[0] * y_out.shape[1], ) # reshape to 1d array \n",
    "print('output: \\n', y_out[0:5], '\\n')\n",
    "\n",
    "# shape of our data:\n",
    "print('input shape = ', x_inp.shape, '\\n')\n",
    "print('output shape = ', y_out.shape, '\\n')\n"
   ]
  },
  {
   "cell_type": "markdown",
   "metadata": {},
   "source": [
    "___\n",
    "- data standardization gives data, **zero mean** ($\\mu = 0$) and **unit standard deviation** ($\\sigma = 1$)\n",
    "- to do so, in the following cell;  We'll write:\n",
    "- **preprocessing.StandardScaler().fit(input_name)** \n",
    "- and to change this object to numpy array we use: **.transform()**\n",
    "___"
   ]
  },
  {
   "cell_type": "code",
   "execution_count": 9,
   "metadata": {},
   "outputs": [
    {
     "name": "stdout",
     "output_type": "stream",
     "text": [
      "standard data: \n",
      "\n",
      " [[-0.02696767 -1.055125    0.18450456 ... -0.22207644 -1.03459817\n",
      "  -0.23065004]\n",
      " [ 1.19883553 -1.14880563 -0.69181243 ... -0.22207644 -1.03459817\n",
      "   2.55666158]\n",
      " [ 1.19883553  1.52109247  0.82182601 ... -0.22207644  0.96655883\n",
      "  -0.23065004]\n",
      " ...\n",
      " [ 1.19883553  1.47425216  1.37948227 ... -0.22207644  0.96655883\n",
      "  -0.92747794]\n",
      " [ 1.19883553  1.61477311  0.58283046 ... -0.22207644  0.96655883\n",
      "  -0.92747794]\n",
      " [ 1.19883553  0.67796676 -0.45281689 ... -0.22207644  0.96655883\n",
      "   0.46617787]] \n",
      "\n",
      "mean of standard data:\n",
      " 3.132847516760442e-17 ~ zero \n",
      "\n",
      "std of standard data:\n",
      " 1.0\n"
     ]
    }
   ],
   "source": [
    "# Standardization of Data:\n",
    "x_inp = preprocessing.StandardScaler().fit(x_inp).transform(x_inp.astype(float))\n",
    "print('standard data: \\n\\n', x_inp, '\\n')\n",
    "\n",
    "mean = np.mean(x_inp)\n",
    "standard_dev = np.std(x_inp)\n",
    "\n",
    "print('mean of standard data:\\n', mean, '~ zero','\\n')\n",
    "print('std of standard data:\\n', standard_dev)"
   ]
  },
  {
   "cell_type": "code",
   "execution_count": 10,
   "metadata": {},
   "outputs": [
    {
     "name": "stdout",
     "output_type": "stream",
     "text": [
      "we have 1000 total <Data> befor train-test split:\n",
      "<==========>\n",
      "shape of x train =  (800, 11)\n",
      "shape of x test = (200, 11)\n",
      "shape of y train =  (800,)\n",
      "shape of y test =  (200,)\n",
      "<==========>\n"
     ]
    }
   ],
   "source": [
    "x_train, x_test, y_train, y_test = train_test_split(x_inp, y_out, test_size=0.2, random_state=4)\n",
    "\n",
    "print('we have 1000 total <Data> befor train-test split:')\n",
    "print('<==========>')\n",
    "print('shape of x train = ', x_train.shape)\n",
    "print('shape of x test =', x_test.shape)\n",
    "print('shape of y train = ', y_train.shape)\n",
    "print('shape of y test = ', y_test.shape)\n",
    "print('<==========>')"
   ]
  },
  {
   "cell_type": "code",
   "execution_count": 11,
   "metadata": {},
   "outputs": [
    {
     "data": {
      "text/plain": [
       "KNeighborsClassifier(n_neighbors=4)"
      ]
     },
     "execution_count": 11,
     "metadata": {},
     "output_type": "execute_result"
    }
   ],
   "source": [
    "# creating our K-NN model: (K = 4)\n",
    "k = 4\n",
    "KNN_model_1 = KNeighborsClassifier(n_neighbors = k).fit(x_train, y_train)\n",
    "KNN_model_1.fit(x_train, y_train)"
   ]
  },
  {
   "cell_type": "code",
   "execution_count": 12,
   "metadata": {},
   "outputs": [],
   "source": [
    "# prediction of test data using K-NN: (K = 4)\n",
    "y_hat_tr1 = KNN_model_1.predict(x_train)\n",
    "y_hat_te1 = KNN_model_1.predict(x_test)"
   ]
  },
  {
   "cell_type": "code",
   "execution_count": 13,
   "metadata": {},
   "outputs": [
    {
     "name": "stdout",
     "output_type": "stream",
     "text": [
      "the Accuracy for train:  54.75 % \n",
      "\n",
      "the Accuracy for test:  32.0 % \n",
      "\n"
     ]
    }
   ],
   "source": [
    "# evaluation of the Model: (K = 4)\n",
    "model_acc_train1 = metrics.accuracy_score(y_train, y_hat_tr1)\n",
    "model_acc_test1 = metrics.accuracy_score(y_test, y_hat_te1)\n",
    "\n",
    "print('the Accuracy for train: ', model_acc_train1 * 100, '%', '\\n')\n",
    "print('the Accuracy for test: ', model_acc_test1 * 100, '%', '\\n')"
   ]
  },
  {
   "cell_type": "code",
   "execution_count": 14,
   "metadata": {},
   "outputs": [
    {
     "data": {
      "text/plain": [
       "KNeighborsClassifier(n_neighbors=6)"
      ]
     },
     "execution_count": 14,
     "metadata": {},
     "output_type": "execute_result"
    }
   ],
   "source": [
    "# creating another K-NN model: (K = 6)\n",
    "k = 6\n",
    "KNN_model_2 = KNeighborsClassifier(n_neighbors = k)\n",
    "KNN_model_2.fit(x_train, y_train)\n"
   ]
  },
  {
   "cell_type": "code",
   "execution_count": 15,
   "metadata": {},
   "outputs": [],
   "source": [
    "# prediction of test data using K-NN (K = 6):\n",
    "y_hat_tr2 = KNN_model_2.predict(x_train)\n",
    "y_hat_te2 =KNN_model_2.predict(x_test)"
   ]
  },
  {
   "cell_type": "code",
   "execution_count": 16,
   "metadata": {},
   "outputs": [
    {
     "name": "stdout",
     "output_type": "stream",
     "text": [
      "the Accuracy for train:  51.625 % \n",
      "\n",
      "the Accuracy for test:  31.0 % \n",
      "\n"
     ]
    }
   ],
   "source": [
    "# evaluation of the Model: (K = 6)\n",
    "model_acc_train2 = metrics.accuracy_score(y_train, y_hat_tr2)\n",
    "model_acc_test2 = metrics.accuracy_score(y_test, y_hat_te2)\n",
    "\n",
    "print('the Accuracy for train: ', model_acc_train2 * 100, '%', '\\n')\n",
    "print('the Accuracy for test: ', model_acc_test2 * 100, '%', '\\n')"
   ]
  },
  {
   "cell_type": "markdown",
   "metadata": {},
   "source": [
    "___\n",
    "\n",
    "- let's create KNN models, in which K varies from 1 to K = defined by the user:\n",
    "___"
   ]
  },
  {
   "cell_type": "code",
   "execution_count": 17,
   "metadata": {},
   "outputs": [
    {
     "name": "stdout",
     "output_type": "stream",
     "text": [
      "Enter K for the model: 10\n",
      "accuracy for (k = 1 ) = 30.00 %\n",
      "accuracy for (k = 2 ) = 29.00 %\n",
      "accuracy for (k = 3 ) = 31.50 %\n",
      "accuracy for (k = 4 ) = 32.00 %\n",
      "accuracy for (k = 5 ) = 31.50 %\n",
      "accuracy for (k = 6 ) = 31.00 %\n",
      "accuracy for (k = 7 ) = 33.50 %\n",
      "accuracy for (k = 8 ) = 32.50 %\n",
      "accuracy for (k = 9 ) = 34.00 %\n"
     ]
    }
   ],
   "source": [
    "#  Run to see what's happen :)))\n",
    "k = int(input('Enter K for the model: '))\n",
    "accuracy_mat = np.zeros((k-1))\n",
    "\n",
    "for i in range(1, k):\n",
    "    KNN_model = KNeighborsClassifier(n_neighbors=i)\n",
    "    yhat_tr = KNN_model.fit(x_train, y_train)\n",
    "    yhat_te = KNN_model.predict(x_test)\n",
    "    model_acc = metrics.accuracy_score(y_test, yhat_te) *100\n",
    "    accuracy_mat[i-1] = model_acc\n",
    "    print('accuracy for', '(k =', i, ')', '= %.2f' % model_acc, '%')\n"
   ]
  },
  {
   "cell_type": "code",
   "execution_count": 18,
   "metadata": {},
   "outputs": [
    {
     "data": {
      "image/png": "[encoded data removed]",
      "text/plain": [
       "<Figure size 576x432 with 1 Axes>"
      ]
     },
     "metadata": {
      "needs_background": "light"
     },
     "output_type": "display_data"
    }
   ],
   "source": [
    "# plotting results \n",
    "plt.figure(figsize=(8, 6))\n",
    "plt.plot(range(1, k), accuracy_mat)\n",
    "plt.xlabel('K in KNN')\n",
    "plt.ylabel('Accuracy')\n",
    "plt.show()"
   ]
  },
  {
   "cell_type": "code",
   "execution_count": 19,
   "metadata": {},
   "outputs": [
    {
     "name": "stdout",
     "output_type": "stream",
     "text": [
      "maximum accuracy is for k = [ 9 ] and its value is = [ 34.0 ]\n"
     ]
    }
   ],
   "source": [
    "# maximum accuracy:\n",
    "max_acc = np.max(accuracy_mat)\n",
    "max_index = np.argmax(accuracy_mat) + 1\n",
    "\n",
    "print('maximum accuracy is for k =', '[', max_index,']', 'and its value is =', '[', max_acc, ']')"
   ]
  }
 ],
 "metadata": {
  "kernelspec": {
   "display_name": "Python 3",
   "language": "python",
   "name": "python3"
  },
  "language_info": {
   "codemirror_mode": {
    "name": "ipython",
    "version": 3
   },
   "file_extension": ".py",
   "mimetype": "text/x-python",
   "name": "python",
   "nbconvert_exporter": "python",
   "pygments_lexer": "ipython3",
   "version": "3.8.5"
  }
 },
 "nbformat": 4,
 "nbformat_minor": 4
}
